{
 "cells": [
  {
   "cell_type": "markdown",
   "metadata": {},
   "source": [
    "# Model Evaluation on Breizhcrops dataset\n",
    "\n",
    "### Dataset split:\n",
    "\n",
    "- Train: regions FRH01, FRH02, FRH03, \n",
    "- Test: region FRH04\n",
    "\n",
    "Use only L1C for now\n"
   ]
  },
  {
   "cell_type": "code",
   "execution_count": null,
   "metadata": {},
   "outputs": [],
   "source": [
    "import os\n",
    "import numpy as np\n",
    "import pandas as pd\n",
    "from tqdm.auto import tqdm\n",
    "\n",
    "import sys\n",
    "sys.path.append(\"..\")\n",
    "from aitlas.datasets import BreizhCropsDataset\n",
    "from aitlas.utils import get_class"
   ]
  },
  {
   "cell_type": "code",
   "execution_count": null,
   "metadata": {},
   "outputs": [],
   "source": [
    "# setup dataset configs\n",
    "test_dataset_config = {\n",
    "                    \"regions\":[\"frh04\"],\n",
    "                    \"root\":\"../data/breizhcrops_dataset\",\n",
    "                    \"year\":2017,\n",
    "                    \"level\":\"L1C\",\n",
    "                    \"batch_size\": 1024,\n",
    "                    \"shuffle\": False,\n",
    "                    \"num_workers\": 4,\n",
    "                    \"transforms\": [\"aitlas.transforms.SelectBands\"]\n",
    "                }\n",
    "train_dataset_config = {\n",
    "                    \"regions\":[\"frh01\", \"frh02\", \"frh03\"],\n",
    "                    \"root\":\"../data/breizhcrops_dataset\",\n",
    "                    \"year\":2017,\n",
    "                    \"level\":\"L1C\",\n",
    "                    \"batch_size\": 1024,\n",
    "                    \"shuffle\": False,\n",
    "                    \"num_workers\": 4,\n",
    "                    \"transforms\": [\"aitlas.transforms.SelectBands\"]\n",
    "                }"
   ]
  },
  {
   "cell_type": "markdown",
   "metadata": {},
   "source": [
    "## Explore train dataset "
   ]
  },
  {
   "cell_type": "code",
   "execution_count": null,
   "metadata": {},
   "outputs": [],
   "source": [
    "train_dataset = BreizhCropsDataset(train_dataset_config)\n",
    "\n",
    "train_dataset.show_samples()"
   ]
  },
  {
   "cell_type": "code",
   "execution_count": null,
   "metadata": {},
   "outputs": [],
   "source": [
    "fig1 = train_dataset.show_timeseries(100)"
   ]
  },
  {
   "cell_type": "code",
   "execution_count": null,
   "metadata": {},
   "outputs": [],
   "source": [
    "train_dataset.data_distribution_table()\n",
    "fig2 = train_dataset.data_distribution_barchart()"
   ]
  },
  {
   "cell_type": "code",
   "execution_count": null,
   "metadata": {},
   "outputs": [],
   "source": [
    "train_dataset.parcel_distribution_table()"
   ]
  },
  {
   "cell_type": "markdown",
   "metadata": {},
   "source": [
    "## Explore test dataset"
   ]
  },
  {
   "cell_type": "code",
   "execution_count": null,
   "metadata": {},
   "outputs": [],
   "source": [
    "test_dataset = BreizhCropsDataset(test_dataset_config)\n",
    "\n",
    "test_dataset.show_samples()"
   ]
  },
  {
   "cell_type": "code",
   "execution_count": null,
   "metadata": {},
   "outputs": [],
   "source": [
    "fig1 = test_dataset.show_timeseries(100)"
   ]
  },
  {
   "cell_type": "code",
   "execution_count": null,
   "metadata": {},
   "outputs": [],
   "source": [
    "test_dataset.data_distribution_table()\n",
    "fig2 = test_dataset.data_distribution_barchart()"
   ]
  },
  {
   "cell_type": "code",
   "execution_count": null,
   "metadata": {},
   "outputs": [],
   "source": [
    "test_dataset.parcel_distribution_table()"
   ]
  },
  {
   "cell_type": "markdown",
   "metadata": {},
   "source": [
    "\n",
    "# Training the models\n",
    "\n",
    "The models need to be trained before running this notebook, using breizhcrops_train_and_evaluate files:\n",
    "\n",
    "python -m aitlas.run configs/breizhcrops/breizhcrops_train_and_evaluate_<modelname>.json\n",
    "\n",
    "\n",
    "The following models were included in this evaluation:\n",
    "\n",
    "```\n",
    "\"OmniScaleCNN\", \"TempCNN\",\"MSResNet\", \"InceptionTime\", \"LSTM\",\"StarRNN\",\"TransformerEncoder\"\n",
    "\n",
    "```"
   ]
  },
  {
   "cell_type": "markdown",
   "metadata": {},
   "source": [
    "Set parameters for best models"
   ]
  },
  {
   "cell_type": "code",
   "execution_count": null,
   "metadata": {},
   "outputs": [],
   "source": [
    "\n",
    "model_configs = {\n",
    "    \"inceptiontime\" : {\n",
    "        \"model\": {\n",
    "            \"classname\": \"aitlas.models.InceptionTime\",\n",
    "            \"config\": {\n",
    "                \"input_dim\":13,\n",
    "                \"num_classes\": 9,\n",
    "                \"learning_rate\": 0.00896,\n",
    "                \"weight_decay\" : 0.00000222,\n",
    "                \"num_layers\" : 3,\n",
    "                \"hidden_dims\" : 128,\n",
    "                \"metrics\":[\"accuracy\",\"f1_score\", \"kappa\"]\n",
    "            }\n",
    "        }\n",
    "    },\n",
    "    \"lstm\" : {\n",
    "        \"model\": {\n",
    "            \"classname\": \"aitlas.models.LSTM\",\n",
    "            \"config\": {\n",
    "                \"input_dim\":13,\n",
    "                \"num_classes\": 9,\n",
    "                \"learning_rate\": 0.00988,\n",
    "                \"weight_decay\" : 0.000000526,\n",
    "                \"num_layers\" : 4,\n",
    "                \"hidden_dims\" : 128,\n",
    "                \"dropout\" : 0.5713,\n",
    "                \"metrics\":[\"accuracy\",\"f1_score\", \"kappa\"]\n",
    "            }\n",
    "        }\n",
    "    },\n",
    "    \"msresnet\" : {\n",
    "        \"model\": {\n",
    "            \"classname\": \"aitlas.models.MSResNet\",\n",
    "            \"config\": {\n",
    "                \"input_dim\":13,\n",
    "                \"num_classes\": 9,\n",
    "                \"learning_rate\": 0.000000627,\n",
    "                \"weight_decay\" : 0.00000475,\n",
    "                \"hidden_dims\" : 32,\n",
    "                \"metrics\":[\"accuracy\",\"f1_score\", \"kappa\"]\n",
    "            }\n",
    "        }\n",
    "    },\n",
    "    \"starrnn\" : {\n",
    "        \"model\": {\n",
    "            \"classname\": \"aitlas.models.StarRNN\",\n",
    "            \"config\": {\n",
    "                \"input_dim\":13,\n",
    "                \"num_classes\": 9,\n",
    "                \"learning_rate\": 0.00896,\n",
    "                \"weight_decay\" : 0.00000222,\n",
    "                \"num_layers\" : 3,\n",
    "                \"hidden_dims\" : 128,\n",
    "                \"metrics\":[\"accuracy\",\"f1_score\", \"kappa\"]\n",
    "            }\n",
    "        }\n",
    "    },\n",
    "    \"oscnn\" : { \n",
    "        \"model\": {\n",
    "            \"classname\": \"aitlas.models.OmniScaleCNN\",\n",
    "            \"config\": {\n",
    "                \"input_dim\":13,\n",
    "                \"num_classes\": 9,\n",
    "                \"learning_rate\": 0.001066,\n",
    "                \"weight_decay\" : 0.000000225,\n",
    "                \"metrics\":[\"accuracy\",\"f1_score\", \"kappa\"]\n",
    "            }\n",
    "        }\n",
    "    },\n",
    "    \"transformer\" : {\n",
    "        \"model\": {\n",
    "            \"classname\": \"aitlas.models.TransformerModel\",\n",
    "            \"config\": {\n",
    "                \"input_dim\":13,\n",
    "                \"num_classes\": 9,\n",
    "                \"learning_rate\": 0.00131,\n",
    "                \"d_model\" : 64,\n",
    "                \"dropout\" : 0.4,\n",
    "                \"metrics\":[\"accuracy\",\"f1_score\", \"kappa\"]\n",
    "            }\n",
    "        }\n",
    "    },\n",
    "    \"tempcnn\" : {\n",
    "        \"model\": {\n",
    "            \"classname\": \"aitlas.models.TempCNN\",\n",
    "            \"config\": {\n",
    "                \"input_dim\":13,\n",
    "                \"num_classes\": 9,\n",
    "                \"sequence_length\": 45,\n",
    "                \"learning_rate\": 0.000238,\n",
    "                \"weight_decay\" : 0.0000518,\n",
    "                \"kernel_size\" : 7,\n",
    "                \"hidden_dims\" : 128,\n",
    "                \"dropout\" : 0.18,\n",
    "                \"metrics\":[\"accuracy\",\"f1_score\", \"kappa\"]\n",
    "            }\n",
    "        }\n",
    "    }\n",
    "}"
   ]
  },
  {
   "cell_type": "markdown",
   "metadata": {},
   "source": [
    "\n",
    "\n",
    "Experiment Folder structure\n",
    "```\n",
    "examples/\n",
    "    experiment/\n",
    "        breizhcrops/\n",
    "            <model>/\n",
    "                checkpoint_<ts>_.pth.tar\n",
    "            ...\n",
    "```"
   ]
  },
  {
   "cell_type": "code",
   "execution_count": null,
   "metadata": {},
   "outputs": [],
   "source": [
    "def load_model(run):\n",
    "    \"\"\"\n",
    "    Load latest checkpoint for model\n",
    "    \"\"\"\n",
    "    models = [l for l in os.listdir(os.path.join(logdir,run)) if l.startswith(\"checkpoint\")]\n",
    "    last_model = models[0]\n",
    "    for model in models:\n",
    "        timestamp = int(model.split('.')[0].split(\"_\")[1])\n",
    "        if timestamp > int(last_model.split('.')[0].split(\"_\")[1]):\n",
    "            last_model=model\n",
    "    model_path = os.path.join(logdir,run,last_model)\n",
    "    model_cls = get_class(model_configs[run]['model']['classname'])\n",
    "    model = model_cls(model_configs[run]['model']['config'])\n",
    "    model.prepare()\n",
    "    model.load_model(model_path)\n",
    "\n",
    "    return model"
   ]
  },
  {
   "cell_type": "markdown",
   "metadata": {},
   "source": [
    "### Compile L1C Results"
   ]
  },
  {
   "cell_type": "code",
   "execution_count": null,
   "metadata": {
    "pycharm": {
     "name": "#%%\n"
    }
   },
   "outputs": [],
   "source": [
    "# specify where the \"root\" folder of the models for the dataset\n",
    "logdir = \"examples/experiment/breizhcrops\"\n",
    "\n",
    "for model_key in model_configs.keys():\n",
    "    m = load_model(model_key) # load model\n",
    "    result = m.evaluate_model(test_dataset.dataloader()) # run predictions on test dataset\n",
    "\n",
    "    # print metrics for model\n",
    "    print(f\"Model: {m.__class__.__name__}\")\n",
    "    print(\"\")\n",
    "    for metric in [m.running_metrics.accuracy(), m.running_metrics.precision(), m.running_metrics.recall(), m.running_metrics.f1_score()]:\n",
    "        for k in metric.keys():\n",
    "            print(f\"{k} {metric[k]}\")\n",
    "        print(\"\")\n",
    "\n"
   ]
  }
 ],
 "metadata": {
  "kernelspec": {
   "display_name": "venv",
   "language": "python",
   "name": "venv"
  },
  "language_info": {
   "codemirror_mode": {
    "name": "ipython",
    "version": 3
   },
   "file_extension": ".py",
   "mimetype": "text/x-python",
   "name": "python",
   "nbconvert_exporter": "python",
   "pygments_lexer": "ipython3",
   "version": "3.8.2"
  },
  "metadata": {
   "interpreter": {
    "hash": "16c1f335c95c8865301a3d8d2c8a2eb58ea0c95f08d1f6d899cb217b10cd9777"
   }
  }
 },
 "nbformat": 4,
 "nbformat_minor": 2
}
