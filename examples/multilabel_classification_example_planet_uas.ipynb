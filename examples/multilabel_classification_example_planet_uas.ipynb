{
 "cells": [
  {
   "cell_type": "markdown",
   "metadata": {},
   "source": [
    "# Example of the `aitlas` toolbox in the context of multi label image classification\n",
    "\n",
    "This notebook shows a sample implementation of a multi label image classification using the `aitlas` toolbox using the Planet UAS multi label dataset."
   ]
  },
  {
   "cell_type": "code",
   "execution_count": null,
   "metadata": {},
   "outputs": [],
   "source": [
    "from aitlas.datasets import PlanetUASMultiLabelDataset\n",
    "from aitlas.models import ResNet50MultiLabel\n",
    "from aitlas.transforms import ResizeCenterCropFlipHVToTensor, ConvertToRGBResizeCenterCropToTensor\n",
    "from aitlas.utils import image_loader"
   ]
  },
  {
   "cell_type": "markdown",
   "metadata": {},
   "source": [
    "## Load the dataset"
   ]
  },
  {
   "cell_type": "code",
   "execution_count": null,
   "metadata": {},
   "outputs": [],
   "source": [
    "dataset_config = {\n",
    "    \"data_dir\": \"./data/PlanetUAS/images\",\n",
    "    \"csv_file\": \"./data/PlanetUAS/multilabels.txt\"\n",
    "}\n",
    "dataset = PlanetUASMultiLabelDataset(dataset_config)"
   ]
  },
  {
   "cell_type": "markdown",
   "metadata": {},
   "source": [
    "## Show images from the dataset"
   ]
  },
  {
   "cell_type": "code",
   "execution_count": null,
   "metadata": {
    "scrolled": false
   },
   "outputs": [],
   "source": [
    "fig1 = dataset.show_image(1000)\n",
    "fig2 = dataset.show_image(30)\n",
    "fig3 = dataset.show_batch(15)"
   ]
  },
  {
   "cell_type": "markdown",
   "metadata": {},
   "source": [
    "## Inspect the data"
   ]
  },
  {
   "cell_type": "code",
   "execution_count": null,
   "metadata": {},
   "outputs": [],
   "source": [
    "dataset.show_samples()"
   ]
  },
  {
   "cell_type": "code",
   "execution_count": null,
   "metadata": {},
   "outputs": [],
   "source": [
    "dataset.data_distribution_table()"
   ]
  },
  {
   "cell_type": "code",
   "execution_count": null,
   "metadata": {},
   "outputs": [],
   "source": [
    "fig = dataset.data_distribution_barchart()"
   ]
  },
  {
   "cell_type": "markdown",
   "metadata": {},
   "source": [
    "## Load train and test splits"
   ]
  },
  {
   "cell_type": "code",
   "execution_count": null,
   "metadata": {},
   "outputs": [],
   "source": [
    "train_dataset_config = {\n",
    "    \"batch_size\": 16,\n",
    "    \"shuffle\": True,\n",
    "    \"num_workers\": 4,\n",
    "    \"data_dir\": \"./data/PlanetUAS/images\",\n",
    "    \"csv_file\": \"./data/PlanetUAS/train.csv\"\n",
    "}\n",
    "\n",
    "train_dataset = PlanetUASMultiLabelDataset(train_dataset_config)\n",
    "train_dataset.transform = ResizeCenterCropFlipHVToTensor()"
   ]
  },
  {
   "cell_type": "markdown",
   "metadata": {},
   "source": [
    "## Setup and create the model for training"
   ]
  },
  {
   "cell_type": "code",
   "execution_count": null,
   "metadata": {},
   "outputs": [],
   "source": [
    "epochs = 10\n",
    "model_directory = \"./experiments/PlanetUAS\"\n",
    "model_config = {\n",
    "    \"num_classes\": 17, \n",
    "    \"learning_rate\": 0.0001,\n",
    "    \"pretrained\": True, \n",
    "    \"threshold\": 0.5, \n",
    "    \"metrics\": [\"accuracy\", \"precision\", \"recall\", \"f1_score\"]\n",
    "}\n",
    "model = ResNet50MultiLabel(model_config)\n",
    "model.prepare()"
   ]
  },
  {
   "cell_type": "markdown",
   "metadata": {},
   "source": [
    "## Training and evaluation"
   ]
  },
  {
   "cell_type": "code",
   "execution_count": null,
   "metadata": {},
   "outputs": [],
   "source": [
    "model.train(\n",
    "    train_dataset=train_dataset,\n",
    "    epochs=epochs,\n",
    "    model_directory=model_directory,\n",
    "    run_id='1',\n",
    ")"
   ]
  },
  {
   "cell_type": "markdown",
   "metadata": {},
   "source": [
    "## Predictions"
   ]
  },
  {
   "cell_type": "code",
   "execution_count": null,
   "metadata": {},
   "outputs": [],
   "source": [
    "model_path = \"./experiments/PlanetUAS/checkpoint.pth.tar\"\n",
    "#labels = PlanetUASMultiLabelDataset.labels\n",
    "labels = [\"haze\", \"primary\", \"agriculture\", \"clear\", \"water\", \"habitation\", \"road\", \"cultivation\", \"slash_burn\",\n",
    "          \"cloudy\", \"partly_cloudy\", \"conventional_mine\", \"bare_ground\", \"artisinal_mine\", \"blooming\",\n",
    "          \"selective_logging\", \"blow_down\"]\n",
    "transform = ConvertToRGBResizeCenterCropToTensor()\n",
    "model.load_model(model_path)\n",
    "\n",
    "image = image_loader('./data/predict/image1.tif')\n",
    "fig = model.predict_image(image, labels, transform)\n",
    "\n",
    "image = image_loader('./data/predict/image2.tif')\n",
    "fig = model.predict_image(image, labels, transform)\n",
    "\n",
    "image = image_loader('./data/predict/image3.tif')\n",
    "fig = model.predict_image(image, labels, transform)\n",
    "\n",
    "image = image_loader('./data/predict/image4.tif')\n",
    "fig = model.predict_image(image, labels, transform)"
   ]
  }
 ],
 "metadata": {
  "kernelspec": {
   "display_name": "aitlas",
   "language": "python",
   "name": "aitlas"
  },
  "language_info": {
   "codemirror_mode": {
    "name": "ipython",
    "version": 3
   },
   "file_extension": ".py",
   "mimetype": "text/x-python",
   "name": "python",
   "nbconvert_exporter": "python",
   "pygments_lexer": "ipython3",
   "version": "3.7.12"
  }
 },
 "nbformat": 4,
 "nbformat_minor": 2
}
