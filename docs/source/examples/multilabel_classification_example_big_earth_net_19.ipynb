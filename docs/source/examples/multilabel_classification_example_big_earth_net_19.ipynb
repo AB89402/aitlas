{
 "cells": [
  {
   "attachments": {},
   "cell_type": "markdown",
   "metadata": {},
   "source": [
    "# BigEarth Net 19 dataset: Example of the `aitlas` toolbox for multi label image classification\n",
    "\n",
    "This notebook shows a sample implementation of a multi label image classification using the `aitlas` toolbox using the Big Earth Net multi label dataset with 19 labels."
   ]
  },
  {
   "cell_type": "code",
   "execution_count": null,
   "metadata": {},
   "outputs": [],
   "source": [
    "from aitlas.datasets import BigEarthNetDataset\n",
    "from aitlas.models import ResNet50MultiLabel\n",
    "from aitlas.transforms import ResizeCenterCropFlipHVToTensor, ResizeCenterCropToTensor\n",
    "from aitlas.utils import image_loader"
   ]
  },
  {
   "cell_type": "markdown",
   "metadata": {},
   "source": [
    "## Load the dataset"
   ]
  },
  {
   "cell_type": "code",
   "execution_count": null,
   "metadata": {},
   "outputs": [],
   "source": [
    "dataset_config = {\n",
    "    \"lmdb_path\": \"./data/BigEarthNet/lmdb\",\n",
    "    \"import_to_lmdb\": false,\n",
    "    \"csv_file\": \"./data/BigEarthNet/splits/train.csv\",\n",
    "    \"data_dir\": \"./data/BigEarthNet/BigEarthNet-v1.0\",\n",
    "    \"selection\": \"rgb\",\n",
    "    \"version\": \"19 labels\"\n",
    "}\n",
    "dataset = BigEarthNetDataset(dataset_config)"
   ]
  },
  {
   "cell_type": "markdown",
   "metadata": {},
   "source": [
    "## Show images from the dataset"
   ]
  },
  {
   "cell_type": "code",
   "execution_count": null,
   "metadata": {
    "scrolled": false
   },
   "outputs": [],
   "source": [
    "fig1 = dataset.show_image(1000)\n",
    "fig2 = dataset.show_image(30)\n",
    "fig3 = dataset.show_batch(15)"
   ]
  },
  {
   "cell_type": "markdown",
   "metadata": {},
   "source": [
    "## Inspect the data"
   ]
  },
  {
   "cell_type": "code",
   "execution_count": null,
   "metadata": {},
   "outputs": [],
   "source": [
    "dataset.show_stats()"
   ]
  },
  {
   "cell_type": "markdown",
   "metadata": {},
   "source": [
    "## Load train and test splits"
   ]
  },
  {
   "cell_type": "code",
   "execution_count": null,
   "metadata": {},
   "outputs": [],
   "source": [
    "train_dataset_config = {\n",
    "    \"batch_size\": 16,\n",
    "    \"shuffle\": True,\n",
    "    \"num_workers\": 4,\n",
    "    \"lmdb_path\": \"./data/BigEarthNet/lmdb\",\n",
    "    \"import_to_lmdb\": false,\n",
    "    \"csv_file\": \"./data/BigEarthNet/splits/train.csv\",\n",
    "    \"data_dir\": \"./data/BigEarthNet/BigEarthNet-v1.0\",\n",
    "    \"transforms\": [\"aitlas.transforms.ToTensorRGB\", \"aitlas.transforms.NormalizeRGB\"],\n",
    "    \"bands10_mean\": [429.9430203,614.21682446,590.23569706],\n",
    "    \"bands10_std\": [572.41639287,582.87945694,675.88746967],\n",
    "    \"selection\": \"rgb\",\n",
    "    \"version\": \"19 labels\"\n",
    "}\n",
    "\n",
    "train_dataset = BigEarthNetDataset(train_dataset_config)\n",
    "train_dataset.transform = ResizeCenterCropFlipHVToTensor() \n",
    "\n",
    "test_dataset_config = {\n",
    "    \"batch_size\": 4,\n",
    "    \"shuffle\": False,\n",
    "    \"num_workers\": 4,\n",
    "    \"lmdb_path\": \"./data/BigEarthNet/lmdb\",\n",
    "    \"import_to_lmdb\": false,\n",
    "    \"csv_file\": \"./data/BigEarthNet/splits/train.csv\",\n",
    "    \"data_dir\": \"./data/BigEarthNet/BigEarthNet-v1.0\",\n",
    "    \"transforms\": [\"aitlas.transforms.ToTensorRGB\", \"aitlas.transforms.NormalizeRGB\"],\n",
    "    \"bands10_mean\": [429.9430203,614.21682446,590.23569706],\n",
    "    \"bands10_std\": [572.41639287,582.87945694,675.88746967],\n",
    "    \"selection\": \"rgb\",\n",
    "    \"version\": \"19 labels\"\n",
    "}\n",
    "\n",
    "test_dataset = BigEarthNetDataset(test_dataset_config)\n",
    "len(train_dataset), len(test_dataset)"
   ]
  },
  {
   "cell_type": "markdown",
   "metadata": {},
   "source": [
    "## Setup and create the model for training"
   ]
  },
  {
   "cell_type": "code",
   "execution_count": null,
   "metadata": {},
   "outputs": [],
   "source": [
    "epochs = 10\n",
    "model_directory = \"./data/BigEarthNet/experiments\"\n",
    "model_config = {\n",
    "    \"num_classes\": 17, \n",
    "    \"learning_rate\": 0.0001,\n",
    "    \"pretrained\": False, \n",
    "    \"threshold\": 0.5, \n",
    "    \"metrics\": [\"accuracy\", \"precision\", \"recall\", \"f1_score\"]\n",
    "}\n",
    "model = ResNet50MultiLabel(model_config)\n",
    "model.prepare()"
   ]
  },
  {
   "cell_type": "markdown",
   "metadata": {},
   "source": [
    "## Training and evaluation"
   ]
  },
  {
   "cell_type": "code",
   "execution_count": null,
   "metadata": {},
   "outputs": [],
   "source": [
    "model.train_and_evaluate_model(\n",
    "    train_dataset=train_dataset,\n",
    "    epochs=epochs,\n",
    "    model_directory=model_directory,\n",
    "    val_dataset=test_dataset,\n",
    "    run_id='1',\n",
    ")"
   ]
  },
  {
   "cell_type": "markdown",
   "metadata": {},
   "source": [
    "## Predictions"
   ]
  },
  {
   "cell_type": "code",
   "execution_count": null,
   "metadata": {},
   "outputs": [],
   "source": [
    "model_path = \"./data/BigEarthNet/checkpoint.pth.tar\"\n",
    "labels = BigEarthNetDataset.labels\n",
    "\n",
    "model.load_model(model_path)\n",
    "\n",
    "image = image_loader('./data/predict/image1.tif')\n",
    "fig = model.predict_image(image, labels)\n",
    "\n",
    "image = image_loader('./data/predict/image2.tif')\n",
    "fig = model.predict_image(image, labels)\n",
    "\n",
    "image = image_loader('./data/predict/image3.tif')\n",
    "fig = model.predict_image(image, labels)\n",
    "\n",
    "image = image_loader('./data/predict/image4.tif')\n",
    "fig = model.predict_image(image, labels)"
   ]
  }
 ],
 "metadata": {
  "kernelspec": {
   "display_name": "aitlas",
   "language": "python",
   "name": "aitlas"
  },
  "language_info": {
   "codemirror_mode": {
    "name": "ipython",
    "version": 3
   },
   "file_extension": ".py",
   "mimetype": "text/x-python",
   "name": "python",
   "nbconvert_exporter": "python",
   "pygments_lexer": "ipython3",
   "version": "3.7.12"
  }
 },
 "nbformat": 4,
 "nbformat_minor": 2
}
