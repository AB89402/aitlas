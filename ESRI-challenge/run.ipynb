{
 "cells": [
  {
   "cell_type": "code",
   "execution_count": 1,
   "metadata": {},
   "outputs": [],
   "source": [
    "import torch\n",
    "import torchvision\n",
    "\n",
    "from datasets.esri_datascience_challenge_2019 import ESRI_challenge_2019\n",
    "\n",
    "from models.fastrcnn import FastRCNN\n",
    "from models.retinanet import RetinaNet"
   ]
  },
  {
   "cell_type": "code",
   "execution_count": 2,
   "metadata": {},
   "outputs": [],
   "source": [
    "%load_ext autoreload\n",
    "%autoreload 2"
   ]
  },
  {
   "cell_type": "markdown",
   "metadata": {},
   "source": [
    "## Define the dataset:"
   ]
  },
  {
   "cell_type": "code",
   "execution_count": 3,
   "metadata": {},
   "outputs": [
    {
     "output_type": "stream",
     "name": "stdout",
     "text": [
      "The original number of images was: 3228\nThe subsampled number of images is: 378\nThe original number of images was: 520\nThe subsampled number of images is: 335\n"
     ]
    }
   ],
   "source": [
    "dataset = ESRI_challenge_2019 (root = \"E:\\\\AiTLAS\\\\aitlas\\\\ESRI-challenge\\\\data\\\\ESRI\",\n",
    "                               subset = \"train\", \n",
    "                               subsample_percentage = 0.125, \n",
    "                               batch_size = 4, \n",
    "                               shuffle = True, \n",
    "                               num_workers = 0)\n",
    "\n",
    "dataset_test = ESRI_challenge_2019 (root = \"E:\\\\AiTLAS\\\\aitlas\\\\ESRI-challenge\\\\data\\\\ESRI\",\n",
    "                               subset = \"test\", \n",
    "                               subsample_percentage = 1, \n",
    "                               batch_size = 4, \n",
    "                               shuffle = True, \n",
    "                               num_workers = 0) "
   ]
  },
  {
   "cell_type": "markdown",
   "metadata": {},
   "source": [
    "## Fine tuning on ESRI"
   ]
  },
  {
   "cell_type": "code",
   "execution_count": 4,
   "metadata": {},
   "outputs": [],
   "source": [
    "def get_fastrcnn(num_classes = 3):\n",
    "    model_cfg = {\"num_classes\": num_classes, \"learning_rate\": 0.001, \"pretrained\": True}\n",
    "\n",
    "    # load a model pre-trained pre-trained on COCO\n",
    "    model = FastRCNN(model_cfg)\n",
    "\n",
    "    return model\n",
    "\n",
    "def get_retinanet(num_classes = 3):\n",
    "    model_cfg = {\"num_classes\": num_classes, \"learning_rate\": 0.001, \"pretrained\": True}\n",
    "    model = RetinaNet(model_cfg)\n",
    "    \n",
    "    return model"
   ]
  },
  {
   "cell_type": "markdown",
   "metadata": {},
   "source": [
    "### Move the model to the GPU and attach an optimizer as well as a learning rate scheduler:"
   ]
  },
  {
   "cell_type": "code",
   "execution_count": 5,
   "metadata": {},
   "outputs": [],
   "source": [
    "# to train on gpu if selected.\n",
    "device = torch.device('cuda') if torch.cuda.is_available() else torch.device('cpu')\n",
    "\n",
    "num_classes = 3\n",
    "\n",
    "# get the model using our helper function\n",
    "model = get_retinanet()\n",
    "\n",
    "# move model to the right device\n",
    "model.to(device)\n",
    "\n",
    "# construct an optimizer\n",
    "params = [p for p in model.parameters() if p.requires_grad]\n",
    "optimizer = torch.optim.SGD(params, lr=0.005,\n",
    "                            momentum=0.9, weight_decay=0.0005)\n",
    "\n",
    "# and a learning rate scheduler which decreases the learning rate by\n",
    "# 10x every 3 epochs\n",
    "lr_scheduler = torch.optim.lr_scheduler.StepLR(optimizer,\n",
    "                                               step_size=3,\n",
    "                                               gamma=0.1)"
   ]
  },
  {
   "cell_type": "code",
   "execution_count": 6,
   "metadata": {},
   "outputs": [],
   "source": [
    "model.prepare()"
   ]
  },
  {
   "cell_type": "code",
   "execution_count": 7,
   "metadata": {},
   "outputs": [
    {
     "output_type": "stream",
     "name": "stderr",
     "text": [
      "2021-06-23 18:30:27,959 INFO Starting training.\n",
      "training:  20%|██        | 19/95 [00:12<00:44,  1.71it/s]2021-06-23 18:30:40,748 INFO [1, 20], loss:  6.28998\n",
      "training:  41%|████      | 39/95 [00:23<00:32,  1.70it/s]2021-06-23 18:30:52,423 INFO [1, 40], loss:  5.09311\n",
      "training:  62%|██████▏   | 59/95 [00:35<00:21,  1.67it/s]2021-06-23 18:31:04,390 INFO [1, 60], loss:  4.34860\n",
      "training:  83%|████████▎ | 79/95 [00:47<00:09,  1.64it/s]2021-06-23 18:31:16,454 INFO [1, 80], loss:  3.96342\n",
      "training: 100%|██████████| 95/95 [00:57<00:00,  1.66it/s]\n",
      "2021-06-23 18:31:25,461 INFO epoch: 1, time: 58, loss:  1.19070\n",
      "testing on train set: 100%|██████████| 95/95 [00:26<00:00,  3.61it/s]\n",
      "2021-06-23 18:32:14,193 INFO Mean Average Precision:0.34957203\n",
      "testing on validation set: 100%|██████████| 84/84 [00:22<00:00,  3.72it/s]\n",
      "2021-06-23 18:34:03,173 INFO Mean Average Precision:0.23827769\n",
      "training:  20%|██        | 19/95 [00:10<00:42,  1.81it/s]2021-06-23 18:34:14,003 INFO [2, 20], loss:  3.18217\n",
      "training:  41%|████      | 39/95 [00:21<00:30,  1.81it/s]2021-06-23 18:34:25,050 INFO [2, 40], loss:  3.29234\n",
      "training:  62%|██████▏   | 59/95 [00:32<00:19,  1.80it/s]2021-06-23 18:34:36,133 INFO [2, 60], loss:  3.02294\n",
      "training:  83%|████████▎ | 79/95 [00:43<00:09,  1.74it/s]2021-06-23 18:34:47,461 INFO [2, 80], loss:  2.59233\n",
      "training: 100%|██████████| 95/95 [00:52<00:00,  1.80it/s]\n",
      "2021-06-23 18:34:55,964 INFO epoch: 2, time: 52, loss:  0.72559\n",
      "testing on train set: 100%|██████████| 95/95 [00:26<00:00,  3.63it/s]\n",
      "2021-06-23 18:35:59,025 INFO Mean Average Precision:0.48342994\n",
      "testing on validation set: 100%|██████████| 84/84 [00:22<00:00,  3.66it/s]\n",
      "2021-06-23 18:37:33,085 INFO Mean Average Precision:0.58526516\n",
      "training:  20%|██        | 19/95 [00:10<00:41,  1.83it/s]2021-06-23 18:37:43,807 INFO [3, 20], loss:  1.90403\n",
      "training:  41%|████      | 39/95 [00:21<00:30,  1.82it/s]2021-06-23 18:37:54,794 INFO [3, 40], loss:  1.94677\n",
      "training:  62%|██████▏   | 59/95 [00:32<00:19,  1.82it/s]2021-06-23 18:38:05,806 INFO [3, 60], loss:  2.18242\n",
      "training:  83%|████████▎ | 79/95 [00:43<00:08,  1.81it/s]2021-06-23 18:38:16,850 INFO [3, 80], loss:  2.40783\n",
      "training: 100%|██████████| 95/95 [00:51<00:00,  1.83it/s]\n",
      "2021-06-23 18:38:25,182 INFO epoch: 3, time: 52, loss:  0.51801\n",
      "testing on train set: 100%|██████████| 95/95 [00:25<00:00,  3.70it/s]\n",
      "2021-06-23 18:39:47,816 INFO Mean Average Precision:0.6996094\n",
      "testing on validation set: 100%|██████████| 84/84 [00:22<00:00,  3.66it/s]\n",
      "2021-06-23 18:41:41,435 INFO Mean Average Precision:0.65214187\n",
      "training:  20%|██        | 19/95 [00:10<00:41,  1.83it/s]2021-06-23 18:41:52,151 INFO [4, 20], loss:  2.01995\n",
      "training:  41%|████      | 39/95 [00:21<00:30,  1.82it/s]2021-06-23 18:42:03,119 INFO [4, 40], loss:  1.86744\n",
      "training:  62%|██████▏   | 59/95 [00:32<00:19,  1.82it/s]2021-06-23 18:42:14,138 INFO [4, 60], loss:  1.97790\n",
      "training:  83%|████████▎ | 79/95 [00:43<00:08,  1.82it/s]2021-06-23 18:42:25,170 INFO [4, 80], loss:  1.69415\n",
      "training: 100%|██████████| 95/95 [00:51<00:00,  1.83it/s]\n",
      "2021-06-23 18:42:33,487 INFO epoch: 4, time: 52, loss:  0.45478\n",
      "testing on train set: 100%|██████████| 95/95 [00:25<00:00,  3.68it/s]\n",
      "2021-06-23 18:44:02,600 INFO Mean Average Precision:0.73838437\n",
      "testing on validation set: 100%|██████████| 84/84 [00:22<00:00,  3.70it/s]\n",
      "2021-06-23 18:45:57,900 INFO Mean Average Precision:0.65284836\n",
      "training:  20%|██        | 19/95 [00:10<00:41,  1.83it/s]2021-06-23 18:46:08,589 INFO [5, 20], loss:  1.74632\n",
      "training:  41%|████      | 39/95 [00:21<00:30,  1.82it/s]2021-06-23 18:46:19,559 INFO [5, 40], loss:  1.35808\n",
      "training:  62%|██████▏   | 59/95 [00:32<00:19,  1.81it/s]2021-06-23 18:46:30,571 INFO [5, 60], loss:  1.35728\n",
      "training:  83%|████████▎ | 79/95 [00:43<00:08,  1.82it/s]2021-06-23 18:46:41,591 INFO [5, 80], loss:  1.65485\n",
      "training: 100%|██████████| 95/95 [00:51<00:00,  1.83it/s]\n",
      "2021-06-23 18:46:49,893 INFO epoch: 5, time: 52, loss:  0.38484\n",
      "testing on train set: 100%|██████████| 95/95 [00:25<00:00,  3.78it/s]\n",
      "2021-06-23 18:47:38,008 INFO Mean Average Precision:0.73683083\n",
      "testing on validation set: 100%|██████████| 84/84 [00:22<00:00,  3.77it/s]\n",
      "2021-06-23 18:49:00,665 INFO Mean Average Precision:0.636688\n",
      "training:  20%|██        | 19/95 [00:10<00:41,  1.83it/s]2021-06-23 18:49:11,388 INFO [6, 20], loss:  1.99016\n",
      "training:  41%|████      | 39/95 [00:21<00:30,  1.82it/s]2021-06-23 18:49:22,392 INFO [6, 40], loss:  1.35668\n",
      "training:  62%|██████▏   | 59/95 [00:32<00:19,  1.81it/s]2021-06-23 18:49:33,416 INFO [6, 60], loss:  1.84548\n",
      "training:  83%|████████▎ | 79/95 [00:43<00:08,  1.81it/s]2021-06-23 18:49:44,475 INFO [6, 80], loss:  1.96161\n",
      "training: 100%|██████████| 95/95 [00:52<00:00,  1.83it/s]\n",
      "2021-06-23 18:49:52,819 INFO epoch: 6, time: 52, loss:  0.44402\n",
      "testing on train set: 100%|██████████| 95/95 [00:25<00:00,  3.78it/s]\n",
      "2021-06-23 18:50:36,272 INFO Mean Average Precision:0.7202617\n",
      "testing on validation set: 100%|██████████| 84/84 [00:22<00:00,  3.75it/s]\n",
      "2021-06-23 18:51:52,280 INFO Mean Average Precision:0.5979999\n",
      "training:  20%|██        | 19/95 [00:10<00:41,  1.82it/s]2021-06-23 18:52:03,042 INFO [7, 20], loss:  1.66468\n",
      "training:  41%|████      | 39/95 [00:21<00:30,  1.82it/s]2021-06-23 18:52:14,066 INFO [7, 40], loss:  1.41121\n",
      "training:  62%|██████▏   | 59/95 [00:32<00:19,  1.81it/s]2021-06-23 18:52:25,109 INFO [7, 60], loss:  1.37648\n",
      "training:  83%|████████▎ | 79/95 [00:43<00:08,  1.80it/s]2021-06-23 18:52:36,182 INFO [7, 80], loss:  1.39357\n",
      "training: 100%|██████████| 95/95 [00:52<00:00,  1.82it/s]\n",
      "2021-06-23 18:52:44,534 INFO epoch: 7, time: 52, loss:  0.36652\n",
      "testing on train set: 100%|██████████| 95/95 [00:25<00:00,  3.76it/s]\n",
      "2021-06-23 18:53:32,466 INFO Mean Average Precision:0.7171674\n",
      "testing on validation set: 100%|██████████| 84/84 [00:22<00:00,  3.74it/s]\n",
      "2021-06-23 18:54:55,478 INFO Mean Average Precision:0.6420392\n",
      "training:  20%|██        | 19/95 [00:10<00:41,  1.82it/s]2021-06-23 18:55:06,220 INFO [8, 20], loss:  1.14878\n",
      "training:  41%|████      | 39/95 [00:21<00:30,  1.81it/s]2021-06-23 18:55:17,251 INFO [8, 40], loss:  3.90368\n",
      "training:  62%|██████▏   | 59/95 [00:32<00:19,  1.81it/s]2021-06-23 18:55:28,293 INFO [8, 60], loss:  2.66085\n",
      "training:  83%|████████▎ | 79/95 [00:43<00:08,  1.81it/s]2021-06-23 18:55:39,352 INFO [8, 80], loss:  2.66861\n",
      "training: 100%|██████████| 95/95 [00:52<00:00,  1.82it/s]\n",
      "2021-06-23 18:55:47,699 INFO epoch: 8, time: 52, loss:  0.62054\n",
      "testing on train set: 100%|██████████| 95/95 [00:25<00:00,  3.73it/s]\n",
      "2021-06-23 18:56:55,900 INFO Mean Average Precision:0.7140657\n",
      "testing on validation set: 100%|██████████| 84/84 [00:22<00:00,  3.71it/s]\n",
      "2021-06-23 18:58:42,645 INFO Mean Average Precision:0.6265654\n",
      "training:  20%|██        | 19/95 [00:10<00:41,  1.82it/s]2021-06-23 18:58:53,358 INFO [9, 20], loss:  1.73826\n",
      "training:  41%|████      | 39/95 [00:21<00:30,  1.82it/s]2021-06-23 18:59:04,341 INFO [9, 40], loss:  1.89887\n",
      "training:  62%|██████▏   | 59/95 [00:32<00:19,  1.81it/s]2021-06-23 18:59:15,362 INFO [9, 60], loss:  1.67183\n",
      "training:  83%|████████▎ | 79/95 [00:43<00:08,  1.81it/s]2021-06-23 18:59:26,390 INFO [9, 80], loss:  1.15601\n",
      "training: 100%|██████████| 95/95 [00:51<00:00,  1.83it/s]\n",
      "2021-06-23 18:59:34,707 INFO epoch: 9, time: 52, loss:  0.38401\n",
      "testing on train set: 100%|██████████| 95/95 [00:25<00:00,  3.76it/s]\n",
      "2021-06-23 19:00:31,013 INFO Mean Average Precision:0.73457396\n",
      "testing on validation set: 100%|██████████| 84/84 [00:22<00:00,  3.72it/s]\n",
      "2021-06-23 19:01:58,165 INFO Mean Average Precision:0.6186898\n",
      "training:  20%|██        | 19/95 [00:10<00:41,  1.82it/s]2021-06-23 19:02:08,924 INFO [10, 20], loss:  1.41188\n",
      "training:  41%|████      | 39/95 [00:21<00:30,  1.82it/s]2021-06-23 19:02:19,910 INFO [10, 40], loss:  1.04041\n",
      "training:  62%|██████▏   | 59/95 [00:32<00:19,  1.81it/s]2021-06-23 19:02:30,941 INFO [10, 60], loss:  1.10286\n",
      "training:  83%|████████▎ | 79/95 [00:43<00:08,  1.81it/s]2021-06-23 19:02:41,975 INFO [10, 80], loss:  1.57223\n",
      "training: 100%|██████████| 95/95 [00:51<00:00,  1.83it/s]\n",
      "2021-06-23 19:02:50,301 INFO epoch: 10, time: 52, loss:  0.30485\n",
      "testing on train set: 100%|██████████| 95/95 [00:25<00:00,  3.74it/s]\n",
      "2021-06-23 19:03:52,691 INFO Mean Average Precision:0.74466026\n",
      "testing on validation set: 100%|██████████| 84/84 [00:22<00:00,  3.70it/s]\n",
      "2021-06-23 19:05:29,722 INFO Mean Average Precision:0.6470982\n",
      "2021-06-23 19:05:31,073 INFO finished training. training time: 2104\n"
     ]
    }
   ],
   "source": [
    "model.train_and_evaluate_model(\n",
    "    train_dataset=dataset,\n",
    "    val_dataset=dataset_test,\n",
    "    epochs=10,\n",
    "    model_directory = \"./experiment/\",\n",
    "    run_id = \"1\",\n",
    "    iterations_log = 20\n",
    ")"
   ]
  },
  {
   "cell_type": "code",
   "execution_count": null,
   "metadata": {},
   "outputs": [],
   "source": []
  }
 ],
 "metadata": {
  "kernelspec": {
   "name": "python3",
   "display_name": "Python 3.7.9 64-bit ('aitlas': conda)"
  },
  "language_info": {
   "codemirror_mode": {
    "name": "ipython",
    "version": 3
   },
   "file_extension": ".py",
   "mimetype": "text/x-python",
   "name": "python",
   "nbconvert_exporter": "python",
   "pygments_lexer": "ipython3",
   "version": "3.7.9"
  },
  "orig_nbformat": 2,
  "interpreter": {
   "hash": "74e46c725584c0a0efe812c12512a417aaf5813940beb14617dfd18831f9d066"
  }
 },
 "nbformat": 4,
 "nbformat_minor": 2
}