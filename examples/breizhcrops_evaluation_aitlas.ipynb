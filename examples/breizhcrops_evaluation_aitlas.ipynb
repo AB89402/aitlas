{
 "cells": [
  {
   "cell_type": "markdown",
   "metadata": {},
   "source": [
    "# Model Evaluation on Breizhcrops dataset\n",
    "\n",
    "### Dataset split:\n",
    "\n",
    "- Train: regions FRH01, FRH02, FRH03, \n",
    "- Test: region FRH04\n",
    "\n",
    "Use only L1C for now\n"
   ]
  },
  {
   "cell_type": "code",
   "execution_count": 29,
   "metadata": {},
   "outputs": [],
   "source": [
    "import os\n",
    "import numpy as np\n",
    "import pandas as pd\n",
    "from tqdm.auto import tqdm\n",
    "\n",
    "import sys\n",
    "sys.path.append(\"..\")\n",
    "from aitlas.datasets import BreizhCropsDataset\n",
    "from aitlas.utils import get_class"
   ]
  },
  {
   "cell_type": "code",
   "execution_count": 30,
   "metadata": {},
   "outputs": [],
   "source": [
    "\n",
    "test_dataset_config = {\n",
    "                    \"regions\":[\"frh04\"],\n",
    "                    \"root\":\"../data/breizhcrops_dataset\",\n",
    "                    \"year\":2017,\n",
    "                    \"level\":\"L1C\",\n",
    "                    \"batch_size\": 1024,\n",
    "                    \"shuffle\": False,\n",
    "                    \"num_workers\": 4,\n",
    "                    \"transforms\": [\"aitlas.transforms.SelectBands\"]\n",
    "                }\n",
    "train_dataset_config = {\n",
    "                    \"regions\":[\"frh01\", \"frh02\", \"frh03\"],\n",
    "                    \"root\":\"../data/breizhcrops_dataset\",\n",
    "                    \"year\":2017,\n",
    "                    \"level\":\"L1C\",\n",
    "                    \"batch_size\": 1024,\n",
    "                    \"shuffle\": False,\n",
    "                    \"num_workers\": 4,\n",
    "                    \"transforms\": [\"aitlas.transforms.SelectBands\"]\n",
    "                }\n"
   ]
  },
  {
   "source": [
    "## Explore train dataset "
   ],
   "cell_type": "markdown",
   "metadata": {}
  },
  {
   "cell_type": "code",
   "execution_count": null,
   "metadata": {},
   "outputs": [],
   "source": [
    "train_dataset = BreizhCropsDataset(train_dataset_config)\n",
    "\n",
    "train_dataset.show_samples()"
   ]
  },
  {
   "source": [
    "fig1 = train_dataset.show_timeseries(100)"
   ],
   "cell_type": "code",
   "metadata": {},
   "execution_count": null,
   "outputs": []
  },
  {
   "cell_type": "code",
   "execution_count": null,
   "metadata": {},
   "outputs": [],
   "source": [
    "train_dataset.data_distribution_table()\n",
    "fig2 = train_dataset.data_distribution_barchart()"
   ]
  },
  {
   "cell_type": "code",
   "execution_count": null,
   "metadata": {},
   "outputs": [],
   "source": [
    "train_dataset.parcel_distribution_table()"
   ]
  },
  {
   "source": [
    "## Explore test dataset"
   ],
   "cell_type": "markdown",
   "metadata": {}
  },
  {
   "cell_type": "code",
   "execution_count": null,
   "metadata": {},
   "outputs": [],
   "source": [
    "test_dataset = BreizhCropsDataset(test_dataset_config)\n",
    "\n",
    "test_dataset.show_samples()"
   ]
  },
  {
   "cell_type": "code",
   "execution_count": null,
   "metadata": {},
   "outputs": [],
   "source": [
    "fig1 = test_dataset.show_timeseries(100)"
   ]
  },
  {
   "cell_type": "code",
   "execution_count": null,
   "metadata": {},
   "outputs": [],
   "source": [
    "test_dataset.data_distribution_table()\n",
    "fig2 = test_dataset.data_distribution_barchart()"
   ]
  },
  {
   "cell_type": "code",
   "execution_count": null,
   "metadata": {},
   "outputs": [],
   "source": [
    "test_dataset.parcel_distribution_table()"
   ]
  },
  {
   "source": [
    "\n",
    "# Training the models\n",
    "\n",
    "The models need to be trained before running this notebook, using breizhcrops_train_and_evaluate files:\n",
    "\n",
    "python -m aitlas.run configs/breizhcrops/breizhcrops_train_and_evaluate_<modelname>.json\n",
    "\n",
    "\n",
    "The following models were included in this evaluation:\n",
    "\n",
    "```\n",
    "\"OmniScaleCNN\", \"TempCNN\",\"MSResNet\", \"InceptionTime\", \"LSTM\",\"StarRNN\",\"TransformerEncoder\"\n",
    "\n",
    "```"
   ],
   "cell_type": "markdown",
   "metadata": {}
  },
  {
   "cell_type": "code",
   "execution_count": null,
   "metadata": {},
   "outputs": [],
   "source": []
  },
  {
   "cell_type": "code",
   "execution_count": null,
   "metadata": {},
   "outputs": [],
   "source": [
    "import sklearn.metrics\n",
    "\n",
    "def calc_metrics(y_true, y_pred):\n",
    "    accuracy = sklearn.metrics.accuracy_score(y_true, y_pred)\n",
    "    kappa = sklearn.metrics.cohen_kappa_score(y_true, y_pred)\n",
    "    f1_micro = sklearn.metrics.f1_score(y_true, y_pred, average=\"micro\")\n",
    "    f1_macro = sklearn.metrics.f1_score(y_true, y_pred, average=\"macro\")\n",
    "    f1_weighted = sklearn.metrics.f1_score(y_true, y_pred, average=\"weighted\")\n",
    "    recall_micro = sklearn.metrics.recall_score(y_true, y_pred, average=\"micro\")\n",
    "    recall_macro = sklearn.metrics.recall_score(y_true, y_pred, average=\"macro\")\n",
    "    recall_weighted = sklearn.metrics.recall_score(y_true, y_pred, average=\"weighted\")\n",
    "    precision_micro = sklearn.metrics.precision_score(y_true, y_pred, average=\"micro\")\n",
    "    precision_macro = sklearn.metrics.precision_score(y_true, y_pred, average=\"macro\")\n",
    "    precision_weighted = sklearn.metrics.precision_score(y_true, y_pred, average=\"weighted\")\n",
    "\n",
    "    return dict(\n",
    "        accuracy=accuracy,\n",
    "        kappa=kappa,\n",
    "        f1_micro=f1_micro,\n",
    "        f1_macro=f1_macro,\n",
    "        f1_weighted=f1_weighted,\n",
    "        recall_micro=recall_micro,\n",
    "        recall_macro=recall_macro,\n",
    "        recall_weighted=recall_weighted,\n",
    "        precision_micro=precision_micro,\n",
    "        precision_macro=precision_macro,\n",
    "        precision_weighted=precision_weighted,\n",
    "    )"
   ]
  },
  {
   "source": [
    "Set parameters for best models"
   ],
   "cell_type": "markdown",
   "metadata": {}
  },
  {
   "cell_type": "code",
   "execution_count": null,
   "metadata": {},
   "outputs": [],
   "source": [
    "\n",
    "model_configs = {\n",
    "    \"inceptiontime\" : {\n",
    "        \"model\": {\n",
    "            \"classname\": \"aitlas.models.InceptionTime\",\n",
    "            \"config\": {\n",
    "                \"input_dim\":13,\n",
    "                \"num_classes\": 9,\n",
    "                \"learning_rate\": 0.00896,\n",
    "                \"weight_decay\" : 0.00000222,\n",
    "                \"num_layers\" : 3,\n",
    "                \"hidden_dims\" : 128,\n",
    "                \"metrics\":[\"accuracy\",\"f1_score\", \"kappa\"]\n",
    "            }\n",
    "        }\n",
    "    },\n",
    "    \"lstm\" : {\n",
    "        \"model\": {\n",
    "            \"classname\": \"aitlas.models.LSTM\",\n",
    "            \"config\": {\n",
    "                \"input_dim\":13,\n",
    "                \"num_classes\": 9,\n",
    "                \"learning_rate\": 0.00988,\n",
    "                \"weight_decay\" : 0.000000526,\n",
    "                \"num_layers\" : 4,\n",
    "                \"hidden_dims\" : 128,\n",
    "                \"dropout\" : 0.5713,\n",
    "                \"metrics\":[\"accuracy\",\"f1_score\", \"kappa\"]\n",
    "            }\n",
    "        }\n",
    "    },\n",
    "    \"msresnet\" : {\n",
    "        \"model\": {\n",
    "            \"classname\": \"aitlas.models.MSResNet\",\n",
    "            \"config\": {\n",
    "                \"input_dim\":13,\n",
    "                \"num_classes\": 9,\n",
    "                \"pretrained\":false,\n",
    "                \"learning_rate\": 0.000000627,\n",
    "                \"weight_decay\" : 0.00000475,\n",
    "                \"hidden_dims\" : 32,\n",
    "                \"metrics\":[\"accuracy\",\"f1_score\", \"kappa\"]\n",
    "            }\n",
    "        }\n",
    "    },\n",
    "    \"starrnn\" : {\n",
    "        \"model\": {\n",
    "            \"classname\": \"aitlas.models.StarRNN\",\n",
    "            \"config\": {\n",
    "                \"input_dim\":13,\n",
    "                \"num_classes\": 9,\n",
    "                \"learning_rate\": 0.00896,\n",
    "                \"weight_decay\" : 0.00000222,\n",
    "                \"num_layers\" : 3,\n",
    "                \"hidden_dims\" : 128,\n",
    "                \"metrics\":[\"accuracy\",\"f1_score\", \"kappa\"]\n",
    "            }\n",
    "        }\n",
    "    },\n",
    "    \"oscnn\" : { \n",
    "        \"model\": {\n",
    "            \"classname\": \"aitlas.models.OmniScaleCNN\",\n",
    "            \"config\": {\n",
    "                \"input_dim\":13,\n",
    "                \"num_classes\": 9,\n",
    "                \"learning_rate\": 0.001066,\n",
    "                \"weight_decay\" : 0.000000225,\n",
    "                \"metrics\":[\"accuracy\",\"f1_score\", \"kappa\"]\n",
    "            }\n",
    "        }\n",
    "    },\n",
    "    \"transformer\" : {\n",
    "        \"model\": {\n",
    "            \"classname\": \"aitlas.models.TransformerModel\",\n",
    "            \"config\": {\n",
    "                \"input_dim\":13,\n",
    "                \"num_classes\": 9,\n",
    "                \"learning_rate\": 0.00131,\n",
    "                \"d_model\" : 64,\n",
    "                \"dropout\" : 0.4,\n",
    "                \"metrics\":[\"accuracy\",\"f1_score\", \"kappa\"]\n",
    "            }\n",
    "        }\n",
    "    },\n",
    "    \"tempcnn\" : {\n",
    "        \"model\": {\n",
    "            \"classname\": \"aitlas.models.TempCNN\",\n",
    "            \"config\": {\n",
    "                \"input_dim\":13,\n",
    "                \"num_classes\": 9,\n",
    "                \"learning_rate\": 0.000238,\n",
    "                \"weight_decay\" : 0.0000518,\n",
    "                \"kernel_size\" : 7,\n",
    "                \"hidden_dims\" : 128,\n",
    "                \"dropout\" : 0.18,\n",
    "                \"metrics\":[\"accuracy\",\"f1_score\", \"kappa\"]\n",
    "            }\n",
    "        }\n",
    "    }\n",
    "}"
   ]
  },
  {
   "source": [
    "\n",
    "\n",
    "Experiment Folder structure\n",
    "```\n",
    "examples/\n",
    "    experiment/\n",
    "        breizhcrops/\n",
    "            <model>/\n",
    "                checkpoint_<ts>_.pth.tar\n",
    "            ...\n",
    "```"
   ],
   "cell_type": "markdown",
   "metadata": {}
  },
  {
   "cell_type": "code",
   "execution_count": null,
   "metadata": {},
   "outputs": [],
   "source": [
    "def load(run):\n",
    "    # \n",
    "    # implement the prediction here\n",
    "\n",
    "    dataset = BreizhCropsDataset(test_dataset_config)\n",
    "\n",
    "    model_path = os.path.join(logdir,run,\"checkpoint_pth.tar\")\n",
    "    model_cls = get_class(model_configs[run]['model']['classname'])\n",
    "    model = model_cls(model_configs[run]['model']['config'])\n",
    "    model.prepare()\n",
    "    model.load_model(model_path)\n",
    "    y_true, y_pred, _ = model.predict(dataset)\n",
    "    rs = pd.DataFrame([y_pred,y_true,field_ids],index=[\"y_pred\",\"y_true\",\"field_ids\"]).T.set_index(\"field_ids\")\n",
    "    return rs, y_score\n",
    "\n",
    "def load_table(logdir):\n",
    "    runs = [ run for run in os.listdir(logdir) if  os.path.isdir(logdir)]\n",
    "    #runs = [\"LSTM\",\"OmniScaleCNN\",\"MSResNet\",\"StarRNN\",\"TempCNN\",\"TransformerEncoder\", \"InceptionTime\"]\n",
    "\n",
    "    stats = list()\n",
    "    for run in runs:\n",
    "        rs, _ = load(run)\n",
    "        stat = calc_metrics(rs.y_true,rs.y_pred)\n",
    "        stat[\"model\"] = run\n",
    "        stats.append(stat)\n",
    "    stats = pd.DataFrame(stats).set_index(\"model\")\n",
    "\n",
    "    df = stats.T\n",
    "    #df[\"RF\"] = \"\"\n",
    "\n",
    "    #models = [\"RF\",\"OmniScaleCNN\", \"TempCNN\",\"MSResNet\", \"InceptionTime\", \"LSTM\",\"StarRNN\",\"TransformerEncoder\"]\n",
    "    table = df.loc[[\"accuracy\",\"recall_macro\",\"f1_macro\",\"f1_weighted\",\"kappa\"]]\n",
    "    table.index = [\"overall accuracy\",\"average accuracy\",\"class-mean f-score\",\"weighted f-score\",\"kappa-metric\"]\n",
    "    return table"
   ]
  },
  {
   "cell_type": "markdown",
   "metadata": {},
   "source": [
    "### Compile L1C Results"
   ]
  },
  {
   "cell_type": "code",
   "execution_count": null,
   "metadata": {},
   "outputs": [],
   "source": [
    "logdir = \"experiment/breizhcrops\"\n",
    "\n",
    "l1tables = []\n",
    "table = load_table(logdir).T\n",
    "table[\"fold\"] = fold\n",
    "l1tables.append(table)\n"
   ]
  },
  {
   "cell_type": "code",
   "execution_count": null,
   "metadata": {},
   "outputs": [],
   "source": []
  },
  {
   "cell_type": "code",
   "execution_count": null,
   "metadata": {},
   "outputs": [],
   "source": [
    "meantable = pd.concat(l1tables).groupby([\"model\"]).mean()\n",
    "stdtable = pd.concat(l1tables).groupby([\"model\"]).std()\n",
    "\n",
    "metrics = [\"overall accuracy\",\"average accuracy\",\"class-mean f-score\",\"weighted f-score\",\"kappa-metric\"]\n",
    "models = [\"OmniScaleCNN\",\"TempCNN\",\"MSResNet\", \"InceptionTime\", \"LSTM\", \"StarRNN\", \"TransformerEncoder\"]\n",
    "for metric in metrics:\n",
    "    entries = list()\n",
    "        \n",
    "    for model in models:\n",
    "        entries.append(\"$\" + f\"{meantable.loc[model,metric]:.2f}\"+\"^{\\\\pm \"+ f\"{stdtable.loc[model,metric]:.2f}\" + \"}$\")\n",
    "    row = f\"{metric} & & \" + \" & \".join(entries)\n",
    "    row += \" \\\\\\ \"\n",
    "    print(row)"
   ]
  },
  {
   "cell_type": "code",
   "execution_count": null,
   "metadata": {},
   "outputs": [],
   "source": [
    "pd.concat(l1tables).groupby([\"model\",\"fold\"]).first()"
   ]
  },
  {
   "cell_type": "markdown",
   "metadata": {},
   "source": [
    "### Compile L2A Results"
   ]
  },
  {
   "cell_type": "code",
   "execution_count": null,
   "metadata": {},
   "outputs": [],
   "source": [
    "l2tables = []\n",
    "for fold in [1,2,3,4]:\n",
    "    table = load_table(f\"{logdir}/L2A/{fold}\").T\n",
    "    table[\"fold\"] = fold\n",
    "    l2tables.append(table)"
   ]
  },
  {
   "cell_type": "code",
   "execution_count": null,
   "metadata": {},
   "outputs": [],
   "source": [
    "\n",
    "meantable = pd.concat(l2tables).groupby([\"model\"]).mean()\n",
    "stdtable = pd.concat(l2tables).groupby([\"model\"]).std()\n",
    "\n",
    "metrics = [\"overall accuracy\",\"average accuracy\",\"class-mean f-score\",\"weighted f-score\",\"kappa-metric\"]\n",
    "models = [\"OmniScaleCNN\",\"TempCNN\",\"MSResNet\", \"InceptionTime\", \"LSTM\", \"StarRNN\", \"TransformerEncoder\"]\n",
    "for metric in metrics:\n",
    "    entries = list()\n",
    "        \n",
    "    for model in models:\n",
    "        entries.append(\"$\" + f\"{meantable.loc[model,metric]:.2f}\"+\"^{\\\\pm \"+ f\"{stdtable.loc[model,metric]:.2f}\" + \"}$\")\n",
    "    row = f\"{metric} & & \" + \" & \".join(entries)\n",
    "    row += \" \\\\\\ \"\n",
    "    print(row)"
   ]
  },
  {
   "cell_type": "code",
   "execution_count": null,
   "metadata": {},
   "outputs": [],
   "source": [
    "pd.concat(l2tables).groupby([\"model\",\"fold\"]).first()"
   ]
  }
 ],
 "metadata": {
  "kernelspec": {
   "name": "python370jvsc74a57bd0db18909e7ef4bdb10e81316dc695213c8e2507517731d9e2d6fc87acf47853ee",
   "display_name": "Python 3.7.0 64-bit ('aitlas-py37': conda)"
  },
  "language_info": {
   "codemirror_mode": {
    "name": "ipython",
    "version": 3
   },
   "file_extension": ".py",
   "mimetype": "text/x-python",
   "name": "python",
   "nbconvert_exporter": "python",
   "pygments_lexer": "ipython3",
   "version": "3.7.0"
  },
  "metadata": {
   "interpreter": {
    "hash": "16c1f335c95c8865301a3d8d2c8a2eb58ea0c95f08d1f6d899cb217b10cd9777"
   }
  }
 },
 "nbformat": 4,
 "nbformat_minor": 2
}