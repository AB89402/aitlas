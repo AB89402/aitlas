{
 "cells": [
  {
   "cell_type": "markdown",
   "metadata": {},
   "source": [
    "# Example of the `aitlas` toolbox in the context of image segmentation\n",
    "\n",
    "This notebook shows a sample implementation of a image segmentation using the `aitlas` toolbox."
   ]
  },
  {
   "cell_type": "markdown",
   "metadata": {},
   "source": [
    "## Import the required packages"
   ]
  },
  {
   "cell_type": "code",
   "execution_count": null,
   "metadata": {},
   "outputs": [],
   "source": [
    "from aitlas.datasets import MassachusettsBuildingsDataset\n",
    "from aitlas.models import DeepLabV3\n",
    "from aitlas.utils import image_loader\n",
    "from aitlas.transforms import MinMaxNormTransponse"
   ]
  },
  {
   "cell_type": "markdown",
   "metadata": {},
   "source": [
    "## Visualize images and masks"
   ]
  },
  {
   "cell_type": "code",
   "execution_count": null,
   "metadata": {},
   "outputs": [],
   "source": [
    "dataset_config = {\n",
    "    \"data_dir\": \"/media/hdd/semantic-segmentation/MassachusettsBuildings/train_splits\",\n",
    "    \"csv_file\": \"/media/hdd/semantic-segmentation/MassachusettsBuildings/train.txt\"\n",
    "}\n",
    "dataset = MassachusettsBuildingsDataset(dataset_config)\n",
    "\n",
    "print(f\"Total number of patches: {len(dataset)}\")\n",
    "dataset.show_image(1567);\n",
    "dataset.show_image(793);"
   ]
  },
  {
   "cell_type": "markdown",
   "metadata": {},
   "source": [
    "## Load train data"
   ]
  },
  {
   "cell_type": "code",
   "execution_count": null,
   "metadata": {},
   "outputs": [],
   "source": [
    "train_dataset_config = {\n",
    "    \"batch_size\": 4,\n",
    "    \"shuffle\": True,\n",
    "    \"num_workers\": 4,\n",
    "    \"data_dir\": \"/media/hdd/semantic-segmentation/MassachusettsBuildings/train_splits\",\n",
    "    \"csv_file\": \"/media/hdd/semantic-segmentation/MassachusettsBuildings/train.txt\",\n",
    "    \"transforms\": [\"aitlas.transforms.MinMaxNormTransponse\"],\n",
    "    \"target_transforms\": [\"aitlas.transforms.Transponse\"]\n",
    "}\n",
    "train_dataset = MassachusettsBuildingsDataset(train_dataset_config)\n",
    "len(train_dataset)"
   ]
  },
  {
   "cell_type": "markdown",
   "metadata": {},
   "source": [
    "## Create the model"
   ]
  },
  {
   "cell_type": "code",
   "execution_count": null,
   "metadata": {},
   "outputs": [],
   "source": [
    "epochs = 5\n",
    "model_directory = \"/media/hdd/semantic-segmentation/MassachusettsBuildings/experiments\"\n",
    "model_config = {\n",
    "    \"num_classes\": 2, \n",
    "    \"learning_rate\": 0.0001,\n",
    "    \"pretrained\": True, \n",
    "    \"threshold\": 0.5,\n",
    "    \"metrics\": [\"iou\"]\n",
    "}\n",
    "\n",
    "model = DeepLabV3(model_config)\n",
    "model.prepare()"
   ]
  },
  {
   "cell_type": "markdown",
   "metadata": {},
   "source": [
    "## Start the training"
   ]
  },
  {
   "cell_type": "code",
   "execution_count": null,
   "metadata": {
    "scrolled": false
   },
   "outputs": [],
   "source": [
    "model.train_model(\n",
    "    train_dataset=train_dataset,\n",
    "    epochs=epochs,\n",
    "    model_directory=model_directory,\n",
    "    run_id='1'\n",
    ")"
   ]
  },
  {
   "cell_type": "markdown",
   "metadata": {},
   "source": [
    "## Evalute the model using test data"
   ]
  },
  {
   "cell_type": "code",
   "execution_count": null,
   "metadata": {},
   "outputs": [],
   "source": [
    "test_dataset_config = {\n",
    "    \"batch_size\": 4,\n",
    "    \"shuffle\": False,\n",
    "    \"num_workers\": 4,\n",
    "    \"data_dir\": \"/media/hdd/semantic-segmentation/MassachusettsBuildings/test_splits\",\n",
    "    \"csv_file\": \"/media/hdd/semantic-segmentation/MassachusettsBuildings/test.txt\",\n",
    "    \"transforms\": [\"aitlas.transforms.MinMaxNormTransponse\"],\n",
    "    \"target_transforms\": [\"aitlas.transforms.Transponse\"]\n",
    "}\n",
    "\n",
    "test_dataset = MassachusettsBuildingsDataset(test_dataset_config)\n",
    "len(test_dataset)\n",
    "\n",
    "model = DeepLabV3(model_config)\n",
    "model.prepare()\n",
    "model_path = \"/media/hdd/semantic-segmentation/MassachusettsBuildings/experiments/checkpoint.pth.tar\"\n",
    "model.evaluate(dataset=test_dataset, model_path=model_path)\n",
    "model.running_metrics.get_scores([\"iou\"])"
   ]
  },
  {
   "cell_type": "markdown",
   "metadata": {},
   "source": [
    "## Predictions"
   ]
  },
  {
   "cell_type": "code",
   "execution_count": null,
   "metadata": {},
   "outputs": [],
   "source": [
    "model_path = \"/media/hdd/semantic-segmentation/MassachusettsBuildings/experiments/checkpoint.pth.tar\"\n",
    "#labels = MassachusettsBuildingsDataset.labels\n",
    "labels = [\"Background\", \"Buildings\"]\n",
    "transform = MinMaxNormTransponse()\n",
    "model.load_model(model_path)\n",
    "\n",
    "image = image_loader('/media/ssd/MassachusettsBuildings/output/N-34-97-C-b-1-2_61.jpg')\n",
    "fig = model.predict_masks(image, labels, transform)\n",
    "\n",
    "image = image_loader('/media/ssd/MassachusettsBuildings/output/M-33-48-A-c-4-4_49.jpg')\n",
    "fig = model.predict_masks(image, labels, transform)\n",
    "\n",
    "image = image_loader('/media/ssd/MassachusettsBuildings/output/N-33-139-C-d-2-2_159.jpg')\n",
    "fig = model.predict_masks(image, labels, transform)"
   ]
  },
  {
   "cell_type": "code",
   "execution_count": null,
   "metadata": {},
   "outputs": [],
   "source": []
  }
 ],
 "metadata": {
  "kernelspec": {
   "display_name": "aitlas",
   "language": "python",
   "name": "aitlas"
  },
  "language_info": {
   "codemirror_mode": {
    "name": "ipython",
    "version": 3
   },
   "file_extension": ".py",
   "mimetype": "text/x-python",
   "name": "python",
   "nbconvert_exporter": "python",
   "pygments_lexer": "ipython3",
   "version": "3.7.12"
  }
 },
 "nbformat": 4,
 "nbformat_minor": 4
}
