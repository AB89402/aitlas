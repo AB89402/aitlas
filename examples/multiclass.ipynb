{
 "cells": [
  {
   "cell_type": "markdown",
   "source": [
    "# Example of the `aitlas` toolbox in the context of mutliclass classification\n",
    "\n",
    "This notebook shows a sample implementation of a multiclass classifier using the `aitlas` toolbox.\n",
    "\n",
    "\n",
    "First let's import the required packages."
   ],
   "metadata": {
    "collapsed": false,
    "pycharm": {
     "name": "#%% md\n"
    }
   }
  },
  {
   "cell_type": "code",
   "source": [
    "from aitlas.models import ResNet50\n",
    "from aitlas.datasets import EurosatDataset"
   ],
   "metadata": {
    "collapsed": false,
    "pycharm": {
     "name": "#%%\n"
    }
   },
   "execution_count": 2,
   "outputs": []
  },
  {
   "cell_type": "markdown",
   "source": [
    "Now let's configure the model first."
   ],
   "metadata": {
    "collapsed": false
   }
  },
  {
   "cell_type": "code",
   "execution_count": 2,
   "outputs": [],
   "source": [
    "model_cfg = {\"num_classes\": 10, \"learning_rate\": 0.001,\"pretrained\": True}\n",
    "model = ResNet50(model_cfg)"
   ],
   "metadata": {
    "collapsed": false,
    "pycharm": {
     "name": "#%%\n"
    }
   }
  },
  {
   "cell_type": "markdown",
   "source": [
    "We then configure and instantiate the train dataset."
   ],
   "metadata": {
    "collapsed": false
   }
  },
  {
   "cell_type": "code",
   "execution_count": 3,
   "outputs": [],
   "source": [
    "train_cfg = {\n",
    "    \"batch_size\": 16,\n",
    "    \"shuffle\": True,\n",
    "    \"num_workers\": 4,\n",
    "    \"csv_file_path\": \"./data/Eurosat/2750/train.csv\"\n",
    "}\n",
    "train_set = EurosatDataset(train_cfg)"
   ],
   "metadata": {
    "collapsed": false,
    "pycharm": {
     "name": "#%%\n"
    }
   }
  },
  {
   "cell_type": "markdown",
   "source": [
    "Let's also configure and instantiate a validation dataset"
   ],
   "metadata": {
    "collapsed": false
   }
  },
  {
   "cell_type": "code",
   "execution_count": 1,
   "outputs": [
    {
     "ename": "NameError",
     "evalue": "name 'EurosatDataset' is not defined",
     "output_type": "error",
     "traceback": [
      "\u001B[1;31m---------------------------------------------------------------------------\u001B[0m",
      "\u001B[1;31mNameError\u001B[0m                                 Traceback (most recent call last)",
      "\u001B[1;32m<ipython-input-1-d9760a4375fc>\u001B[0m in \u001B[0;36m<module>\u001B[1;34m\u001B[0m\n\u001B[0;32m      5\u001B[0m     \u001B[1;34m\"csv_file_path\"\u001B[0m\u001B[1;33m:\u001B[0m \u001B[1;34m\"./data/Eurosat/2750/val.csv\"\u001B[0m\u001B[1;33m\u001B[0m\u001B[1;33m\u001B[0m\u001B[0m\n\u001B[0;32m      6\u001B[0m }\n\u001B[1;32m----> 7\u001B[1;33m \u001B[0mval_set\u001B[0m \u001B[1;33m=\u001B[0m \u001B[0mEurosatDataset\u001B[0m\u001B[1;33m(\u001B[0m\u001B[0mval_cfg\u001B[0m\u001B[1;33m)\u001B[0m\u001B[1;33m\u001B[0m\u001B[1;33m\u001B[0m\u001B[0m\n\u001B[0m",
      "\u001B[1;31mNameError\u001B[0m: name 'EurosatDataset' is not defined"
     ]
    }
   ],
   "source": [
    "val_cfg = {\n",
    "    \"batch_size\": 16,\n",
    "    \"shuffle\": False,\n",
    "    \"num_workers\": 4,\n",
    "    \"csv_file_path\": \"./data/Eurosat/2750/val.csv\"\n",
    "}\n",
    "val_set = EurosatDataset(val_cfg)"
   ],
   "metadata": {
    "collapsed": false,
    "pycharm": {
     "name": "#%%\n"
    }
   }
  },
  {
   "cell_type": "markdown",
   "source": [
    "How many epochs do we want to train the model and where are we going to store it on disk"
   ],
   "metadata": {
    "collapsed": false
   }
  },
  {
   "cell_type": "code",
   "execution_count": 1,
   "outputs": [
    {
     "ename": "NameError",
     "evalue": "name 'model' is not defined",
     "output_type": "error",
     "traceback": [
      "\u001B[1;31m---------------------------------------------------------------------------\u001B[0m",
      "\u001B[1;31mNameError\u001B[0m                                 Traceback (most recent call last)",
      "\u001B[1;32m<ipython-input-1-b9558369222c>\u001B[0m in \u001B[0;36m<module>\u001B[1;34m\u001B[0m\n\u001B[0;32m      3\u001B[0m \u001B[1;33m\u001B[0m\u001B[0m\n\u001B[0;32m      4\u001B[0m \u001B[1;33m\u001B[0m\u001B[0m\n\u001B[1;32m----> 5\u001B[1;33m model.train_and_evaluate_model(\n\u001B[0m\u001B[0;32m      6\u001B[0m             \u001B[0mtrain_dataset\u001B[0m\u001B[1;33m=\u001B[0m\u001B[0mtrain_set\u001B[0m\u001B[1;33m,\u001B[0m\u001B[1;33m\u001B[0m\u001B[1;33m\u001B[0m\u001B[0m\n\u001B[0;32m      7\u001B[0m             \u001B[0mval_dataset\u001B[0m\u001B[1;33m=\u001B[0m\u001B[0mval_set\u001B[0m\u001B[1;33m,\u001B[0m\u001B[1;33m\u001B[0m\u001B[1;33m\u001B[0m\u001B[0m\n",
      "\u001B[1;31mNameError\u001B[0m: name 'model' is not defined"
     ]
    }
   ],
   "source": [
    "epochs = 50\n",
    "model_directory = \"./experiment/eurosat/\""
   ],
   "metadata": {
    "collapsed": false,
    "pycharm": {
     "name": "#%%\n"
    }
   }
  },
  {
   "cell_type": "markdown",
   "source": [
    "All that is left is to train the model"
   ],
   "metadata": {
    "collapsed": false
   }
  },
  {
   "cell_type": "code",
   "execution_count": null,
   "outputs": [],
   "source": [
    "model.train_and_evaluate_model(\n",
    "    train_dataset=train_set,\n",
    "    val_dataset=val_set,\n",
    "    epochs=epochs,\n",
    "    model_directory=model_directory,\n",
    ")"
   ],
   "metadata": {
    "collapsed": false,
    "pycharm": {
     "name": "#%%\n"
    }
   }
  }
 ],
 "metadata": {
  "kernelspec": {
   "display_name": "Python 3",
   "language": "python",
   "name": "python3"
  },
  "language_info": {
   "codemirror_mode": {
    "name": "ipython",
    "version": 2
   },
   "file_extension": ".py",
   "mimetype": "text/x-python",
   "name": "python",
   "nbconvert_exporter": "python",
   "pygments_lexer": "ipython2",
   "version": "2.7.6"
  }
 },
 "nbformat": 4,
 "nbformat_minor": 0
}
