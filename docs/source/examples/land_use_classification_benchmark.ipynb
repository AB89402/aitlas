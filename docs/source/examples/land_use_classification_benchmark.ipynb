{
 "cells": [
  {
   "attachments": {},
   "cell_type": "markdown",
   "metadata": {
    "collapsed": true,
    "pycharm": {
     "name": "#%% md\n"
    }
   },
   "source": [
    "\n",
    "# Example of the `aitlas` toolbox for benchmarking a dataset\n",
    "\n",
    "This notebook shows a sample implementation of a multi class image classification using the `aitlas` toolbox using the UC Merced dataset."
   ]
  },
  {
   "cell_type": "code",
   "execution_count": 18,
   "metadata": {
    "pycharm": {
     "name": "#%%\n"
    }
   },
   "outputs": [],
   "source": [
    "import pandas as pd\n",
    "import matplotlib.pyplot as plt\n",
    "\n",
    "from aitlas.datasets import UcMercedDataset\n",
    "from aitlas.models import VGG16\n",
    "from aitlas.tasks import StratifiedSplitTask"
   ]
  },
  {
   "cell_type": "markdown",
   "metadata": {},
   "source": [
    "## Define the splits and dataset paths"
   ]
  },
  {
   "cell_type": "code",
   "execution_count": 19,
   "metadata": {},
   "outputs": [],
   "source": [
    "splits = [(10, 90), (20, 80), (30, 70), (40, 60), (50, 50), (60, 40), (70, 30), \n",
    "          (80, 20), (90, 10)] # one tuple is (train, test)\n",
    "data_dir = \"/media/hdd/multi-class/UCMerced\" # where is the dataset on disk"
   ]
  },
  {
   "cell_type": "markdown",
   "metadata": {},
   "source": [
    "## Loop through the splits, train and evaluate"
   ]
  },
  {
   "cell_type": "code",
   "execution_count": null,
   "metadata": {},
   "outputs": [],
   "source": [
    "results = [] # results accumulator\n",
    "\n",
    "# iterate through the splits\n",
    "for train, test in splits:\n",
    "    # where to store the file names of the train images\n",
    "    train_csv_file = f\"/media/hdd/multi-class/UCMerced/train_{train}_{test}.csv\"\n",
    "    # where to store the file names of the test images\n",
    "    test_csv_file = f\"/media/hdd/multi-class/UCMerced/test_{train}_{test}.csv\"\n",
    "    # configure split task\n",
    "    split_config = {\n",
    "        \"split\": {\n",
    "            \"train\": {\n",
    "                \"ratio\": train,\n",
    "                \"file\": train_csv_file\n",
    "            },\n",
    "            \"test\": {\n",
    "                \"ratio\": test,\n",
    "                \"file\": test_csv_file\n",
    "            }\n",
    "        },\n",
    "        \"data_dir\": data_dir\n",
    "    }\n",
    "    split_task = StratifiedSplitTask(None, split_config)\n",
    "    split_task.run()\n",
    "    \n",
    "    # setup train set\n",
    "    train_dataset_config = {\n",
    "        \"batch_size\": 4,\n",
    "        \"shuffle\": True,\n",
    "        \"num_workers\": 4,\n",
    "        \"csv_file\": train_csv_file,\n",
    "        \"data_dir\": data_dir,  \n",
    "        \"transforms\": [\"aitlas.transforms.ResizeCenterCropFlipHVToTensor\"]\n",
    "    }\n",
    "\n",
    "    train_dataset = UcMercedDataset(train_dataset_config)\n",
    "    \n",
    "    # setup test set\n",
    "    test_dataset_config = {\n",
    "        \"batch_size\": 4,\n",
    "        \"shuffle\": False,\n",
    "        \"num_workers\": 4,\n",
    "        \"csv_file\": test_csv_file,\n",
    "        \"data_dir\": data_dir,\n",
    "        \"transforms\": [\"aitlas.transforms.ResizeCenterCropToTensor\"]\n",
    "    }\n",
    "\n",
    "    test_dataset = UcMercedDataset(test_dataset_config)\n",
    "    print(f\"Train size: {len(train_dataset)}, Test size: {len(test_dataset)}\")\n",
    "    \n",
    "    \n",
    "    # setup model\n",
    "    epochs = 50\n",
    "    model_directory = \"./experiments/uc_merced/\"\n",
    "    model_config = {\n",
    "        \"num_classes\": 21, \n",
    "        \"learning_rate\": 0.0001,\n",
    "        \"pretrained\": True\n",
    "    }\n",
    "    model = VGG16(model_config)\n",
    "    model.prepare()\n",
    "\n",
    "    # training and evaluation\n",
    "    model.train_and_evaluate_model(\n",
    "        train_dataset=train_dataset,\n",
    "        epochs=epochs,\n",
    "        model_directory=model_directory,\n",
    "        val_dataset=test_dataset,\n",
    "        run_id='1',\n",
    "    )\n",
    "    \n",
    "    # collect results\n",
    "    results.append(model.running_metrics.f1_score())"
   ]
  },
  {
   "cell_type": "markdown",
   "metadata": {},
   "source": [
    "## See the results"
   ]
  },
  {
   "cell_type": "code",
   "execution_count": 21,
   "metadata": {},
   "outputs": [
    {
     "data": {
      "text/html": [
       "<div>\n",
       "<style scoped>\n",
       "    .dataframe tbody tr th:only-of-type {\n",
       "        vertical-align: middle;\n",
       "    }\n",
       "\n",
       "    .dataframe tbody tr th {\n",
       "        vertical-align: top;\n",
       "    }\n",
       "\n",
       "    .dataframe thead th {\n",
       "        text-align: right;\n",
       "    }\n",
       "</style>\n",
       "<table border=\"1\" class=\"dataframe\">\n",
       "  <thead>\n",
       "    <tr style=\"text-align: right;\">\n",
       "      <th></th>\n",
       "      <th>Train/Test</th>\n",
       "      <th>Micro F1 score</th>\n",
       "    </tr>\n",
       "  </thead>\n",
       "  <tbody>\n",
       "    <tr>\n",
       "      <th>0</th>\n",
       "      <td>(10, 90)</td>\n",
       "      <td>0.7450</td>\n",
       "    </tr>\n",
       "    <tr>\n",
       "      <th>1</th>\n",
       "      <td>(20, 80)</td>\n",
       "      <td>0.7107</td>\n",
       "    </tr>\n",
       "    <tr>\n",
       "      <th>2</th>\n",
       "      <td>(30, 70)</td>\n",
       "      <td>0.8741</td>\n",
       "    </tr>\n",
       "    <tr>\n",
       "      <th>3</th>\n",
       "      <td>(40, 60)</td>\n",
       "      <td>0.8619</td>\n",
       "    </tr>\n",
       "    <tr>\n",
       "      <th>4</th>\n",
       "      <td>(50, 50)</td>\n",
       "      <td>0.9181</td>\n",
       "    </tr>\n",
       "    <tr>\n",
       "      <th>5</th>\n",
       "      <td>(60, 40)</td>\n",
       "      <td>0.8857</td>\n",
       "    </tr>\n",
       "    <tr>\n",
       "      <th>6</th>\n",
       "      <td>(70, 30)</td>\n",
       "      <td>0.9032</td>\n",
       "    </tr>\n",
       "    <tr>\n",
       "      <th>7</th>\n",
       "      <td>(80, 20)</td>\n",
       "      <td>0.8405</td>\n",
       "    </tr>\n",
       "    <tr>\n",
       "      <th>8</th>\n",
       "      <td>(90, 10)</td>\n",
       "      <td>0.9143</td>\n",
       "    </tr>\n",
       "  </tbody>\n",
       "</table>\n",
       "</div>"
      ],
      "text/plain": [
       "  Train/Test  Micro F1 score\n",
       "0   (10, 90)          0.7450\n",
       "1   (20, 80)          0.7107\n",
       "2   (30, 70)          0.8741\n",
       "3   (40, 60)          0.8619\n",
       "4   (50, 50)          0.9181\n",
       "5   (60, 40)          0.8857\n",
       "6   (70, 30)          0.9032\n",
       "7   (80, 20)          0.8405\n",
       "8   (90, 10)          0.9143"
      ]
     },
     "execution_count": 21,
     "metadata": {},
     "output_type": "execute_result"
    }
   ],
   "source": [
    "df = pd.DataFrame(zip(splits, [round(float(r[\"F1_score Micro\"]), 4) for r in results]), \n",
    "                  columns=[\"Train/Test\", \"Micro F1 score\"])\n",
    "df"
   ]
  },
  {
   "cell_type": "code",
   "execution_count": 22,
   "metadata": {},
   "outputs": [
    {
     "data": {
      "image/png": "[encoded data removed]",
      "text/plain": [
       "<Figure size 432x288 with 1 Axes>"
      ]
     },
     "metadata": {
      "needs_background": "light"
     },
     "output_type": "display_data"
    }
   ],
   "source": [
    "df.plot(x='Train/Test', y='Micro F1 score', kind = 'line')\n",
    "plt.show()"
   ]
  },
  {
   "cell_type": "code",
   "execution_count": null,
   "metadata": {},
   "outputs": [],
   "source": []
  }
 ],
 "metadata": {
  "kernelspec": {
   "display_name": "aitlas",
   "language": "python",
   "name": "aitlas"
  },
  "language_info": {
   "codemirror_mode": {
    "name": "ipython",
    "version": 3
   },
   "file_extension": ".py",
   "mimetype": "text/x-python",
   "name": "python",
   "nbconvert_exporter": "python",
   "pygments_lexer": "ipython3",
   "version": "3.7.12"
  }
 },
 "nbformat": 4,
 "nbformat_minor": 1
}
