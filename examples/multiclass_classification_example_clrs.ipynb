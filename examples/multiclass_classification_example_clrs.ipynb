{
 "cells": [
  {
   "cell_type": "markdown",
   "metadata": {},
   "source": [
    "# Example of the `aitlas` toolbox in the context of multi class image classification\n",
    "\n",
    "This notebook shows a sample implementation of a multi class image classification using the `aitlas` toolbox and the CLRS dataset."
   ]
  },
  {
   "cell_type": "code",
   "execution_count": null,
   "metadata": {},
   "outputs": [],
   "source": [
    "from aitlas.datasets import CLRSDataset\n",
    "from aitlas.models import ResNet50\n",
    "from aitlas.transforms import ResizeCenterCropFlipHVToTensor, ResizeCenterCropToTensor\n",
    "from aitlas.utils import image_loader"
   ]
  },
  {
   "cell_type": "markdown",
   "metadata": {},
   "source": [
    "## Load the dataset"
   ]
  },
  {
   "cell_type": "code",
   "execution_count": null,
   "metadata": {},
   "outputs": [],
   "source": [
    "dataset_config = {\n",
    "    \"data_dir\": \"./data/CLRS\",\n",
    "    \"csv_file\": \"./data/CLRS/train.csv\"\n",
    "}\n",
    "dataset = CLRSDataset(dataset_config)"
   ]
  },
  {
   "cell_type": "markdown",
   "metadata": {},
   "source": [
    "## Show images from the dataset"
   ]
  },
  {
   "cell_type": "code",
   "execution_count": null,
   "metadata": {
    "scrolled": false
   },
   "outputs": [],
   "source": [
    "fig1 = dataset.show_image(1000)\n",
    "fig2 = dataset.show_image(80)\n",
    "fig3 = dataset.show_batch(15)"
   ]
  },
  {
   "cell_type": "markdown",
   "metadata": {},
   "source": [
    "## Inspect the data"
   ]
  },
  {
   "cell_type": "code",
   "execution_count": null,
   "metadata": {},
   "outputs": [],
   "source": [
    "dataset.show_samples()"
   ]
  },
  {
   "cell_type": "code",
   "execution_count": null,
   "metadata": {},
   "outputs": [],
   "source": [
    "dataset.data_distribution_table()"
   ]
  },
  {
   "cell_type": "code",
   "execution_count": null,
   "metadata": {},
   "outputs": [],
   "source": [
    "fig = dataset.data_distribution_barchart()"
   ]
  },
  {
   "cell_type": "markdown",
   "metadata": {},
   "source": [
    "## Load train and test splits"
   ]
  },
  {
   "cell_type": "code",
   "execution_count": null,
   "metadata": {},
   "outputs": [],
   "source": [
    "train_dataset_config = {\n",
    "    \"batch_size\": 16,\n",
    "    \"shuffle\": True,\n",
    "    \"num_workers\": 4,\n",
    "    \"data_dir\": \"./data/CLRS\",\n",
    "    \"csv_file\": \"./data/CLRS/train.csv\"\n",
    "}\n",
    "\n",
    "train_dataset = CLRSDataset(train_dataset_config)\n",
    "train_dataset.transform = ResizeCenterCropFlipHVToTensor() \n",
    "\n",
    "test_dataset_config = {\n",
    "    \"batch_size\": 4,\n",
    "    \"shuffle\": False,\n",
    "    \"num_workers\": 4,\n",
    "    \"data_dir\": \"./data/CLRS\",\n",
    "    \"csv_file\": \"./data/CLRS/test.csv\",\n",
    "    \"transforms\": [\"aitlas.transforms.ResizeCenterCropToTensor\"]\n",
    "}\n",
    "\n",
    "test_dataset = CLRSDataset(test_dataset_config)\n",
    "len(train_dataset), len(test_dataset)"
   ]
  },
  {
   "cell_type": "markdown",
   "metadata": {},
   "source": [
    "## Setup and create the model for training"
   ]
  },
  {
   "cell_type": "code",
   "execution_count": null,
   "metadata": {},
   "outputs": [],
   "source": [
    "epochs = 10\n",
    "model_directory = \"./experiments/CLRS\"\n",
    "model_config = {\n",
    "    \"num_classes\": 25, \n",
    "    \"learning_rate\": 0.0001,\n",
    "    \"pretrained\": True,\n",
    "    \"metrics\": [\"accuracy\", \"precision\", \"recall\", \"f1_score\"]\n",
    "}\n",
    "model = ResNet50(model_config)\n",
    "model.prepare()"
   ]
  },
  {
   "cell_type": "markdown",
   "metadata": {},
   "source": [
    "## Training and evaluation"
   ]
  },
  {
   "cell_type": "code",
   "execution_count": null,
   "metadata": {},
   "outputs": [],
   "source": [
    "model.train_and_evaluate_model(\n",
    "    train_dataset=train_dataset,\n",
    "    epochs=epochs,\n",
    "    model_directory=model_directory,\n",
    "    val_dataset=test_dataset,\n",
    "    run_id='1',\n",
    ")"
   ]
  },
  {
   "cell_type": "markdown",
   "metadata": {},
   "source": [
    "## Predictions"
   ]
  },
  {
   "cell_type": "code",
   "execution_count": null,
   "metadata": {},
   "outputs": [],
   "source": [
    "model_path = \"./experiments/CLRS/checkpoint.pth.tar\"\n",
    "#labels = CLRSDataset.labels\n",
    "labels = [\"airport\", \"bare-land\", \"beach\", \"bridge\", \"commercial\", \"desert\", \"farmland\", \"forest\", \"golf-course\",\n",
    "          \"highway\", \"industrial\", \"meadow\", \"mountain\", \"overpass\", \"park\", \"parking\", \"playground\", \"port\", \"railway\",\n",
    "          \"railway-station\", \"residential\", \"river\", \"runway\", \"stadium\", \"storage-tank\"]\n",
    "transform = ResizeCenterCropToTensor()\n",
    "model.load_model(model_path)\n",
    "\n",
    "image = image_loader('./data/predict/image1.tif')\n",
    "fig = model.predict_image(image, labels, transform)\n",
    "\n",
    "image = image_loader('./data/predict/image2.tif')\n",
    "fig = model.predict_image(image, labels, transform)\n",
    "\n",
    "image = image_loader('./data/predict/image3.tif')\n",
    "fig = model.predict_image(image, labels, transform)\n",
    "\n",
    "image = image_loader('./data/predict/image4.tif')\n",
    "fig = model.predict_image(image, labels, transform)"
   ]
  }
 ],
 "metadata": {
  "kernelspec": {
   "display_name": "aitlas",
   "language": "python",
   "name": "aitlas"
  },
  "language_info": {
   "codemirror_mode": {
    "name": "ipython",
    "version": 3
   },
   "file_extension": ".py",
   "mimetype": "text/x-python",
   "name": "python",
   "nbconvert_exporter": "python",
   "pygments_lexer": "ipython3",
   "version": "3.7.12"
  }
 },
 "nbformat": 4,
 "nbformat_minor": 2
}
